{
  "nbformat": 4,
  "nbformat_minor": 0,
  "metadata": {
    "colab": {
      "name": "Proje1.ipynb",
      "provenance": [],
      "authorship_tag": "ABX9TyPkzBRDX4BwufihMD2uke7E",
      "include_colab_link": true
    },
    "kernelspec": {
      "name": "python3",
      "display_name": "Python 3"
    },
    "language_info": {
      "name": "python"
    }
  },
  "cells": [
    {
      "cell_type": "markdown",
      "metadata": {
        "id": "view-in-github",
        "colab_type": "text"
      },
      "source": [
        "<a href=\"https://colab.research.google.com/github/ayseyildizz/hu-bby162-2022/blob/main/Proje1.ipynb\" target=\"_parent\"><img src=\"https://colab.research.google.com/assets/colab-badge.svg\" alt=\"Open In Colab\"/></a>"
      ]
    },
    {
      "cell_type": "code",
      "execution_count": 3,
      "metadata": {
        "colab": {
          "base_uri": "https://localhost:8080/",
          "height": 131
        },
        "id": "VoJVEwUEUtaA",
        "outputId": "56a6714c-ec9f-4d01-d436-60c29cac3b32"
      },
      "outputs": [
        {
          "output_type": "error",
          "ename": "IndentationError",
          "evalue": "ignored",
          "traceback": [
            "\u001b[0;36m  File \u001b[0;32m\"<ipython-input-3-b363e285e597>\"\u001b[0;36m, line \u001b[0;32m5\u001b[0m\n\u001b[0;31m    print(liste[secim])\u001b[0m\n\u001b[0m        ^\u001b[0m\n\u001b[0;31mIndentationError\u001b[0m\u001b[0;31m:\u001b[0m expected an indented block\n"
          ]
        }
      ],
      "source": [
        "liste = [\"tavşan\", \"marul\",\"leopar\", \"salam\", \"demir\", \"tahta\"]\n",
        "secim = int(input(\"İndeks numarasını giriniz: \"))\n",
        "listeToplam = len(liste)\n",
        "if secim < listeToplam:\n",
        "print(liste[secim])\n",
        "else:\n",
        "print(\"İndeks dışı giriş..!\")\n"
      ]
    }
  ]
}