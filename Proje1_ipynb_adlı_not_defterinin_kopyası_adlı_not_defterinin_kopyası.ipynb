{
  "nbformat": 4,
  "nbformat_minor": 0,
  "metadata": {
    "colab": {
      "name": "Proje1.ipynb adlı not defterinin kopyası adlı not defterinin kopyası",
      "provenance": [],
      "toc_visible": true,
      "authorship_tag": "ABX9TyMyJbTVtitAzsDIef/JLLDj",
      "include_colab_link": true
    },
    "kernelspec": {
      "name": "python3",
      "display_name": "Python 3"
    },
    "language_info": {
      "name": "python"
    }
  },
  "cells": [
    {
      "cell_type": "markdown",
      "metadata": {
        "id": "view-in-github",
        "colab_type": "text"
      },
      "source": [
        "<a href=\"https://colab.research.google.com/github/ayseyildizz/hu-bby162-2022/blob/main/Proje1_ipynb_adl%C4%B1_not_defterinin_kopyas%C4%B1_adl%C4%B1_not_defterinin_kopyas%C4%B1.ipynb\" target=\"_parent\"><img src=\"https://colab.research.google.com/assets/colab-badge.svg\" alt=\"Open In Colab\"/></a>"
      ]
    },
    {
      "cell_type": "code",
      "source": [
        ""
      ],
      "metadata": {
        "id": "kbm5Gaov4vxy"
      },
      "execution_count": null,
      "outputs": []
    },
    {
      "cell_type": "code",
      "execution_count": null,
      "metadata": {
        "colab": {
          "base_uri": "https://localhost:8080/"
        },
        "id": "VoJVEwUEUtaA",
        "outputId": "4f1633cd-2e96-45a3-cd4c-2c1bb4a20ccb"
      },
      "outputs": [
        {
          "output_type": "stream",
          "name": "stdout",
          "text": [
            "İndeks numarasını giriniz: girmeyeceğim\n",
            "İndeks dışı giriş..!\n"
          ]
        }
      ],
      "source": [
        "liste = [\"tavşan\", \"marul\",\"leopar\", \"salam\", \"demir\", \"tahta\"]\n",
        "secim = input(\"İndeks numarasını giriniz: \")\n",
        "\n",
        "if secim. isdigit():\n",
        "   secim=int(secim)\n",
        "   listeToplam = len(liste)\n",
        "   if secim < listeToplam:\n",
        "    print(liste[secim])\n",
        "else:\n",
        "      print(\"İndeks dışı giriş..!\")\n"
      ]
    }
  ]
}